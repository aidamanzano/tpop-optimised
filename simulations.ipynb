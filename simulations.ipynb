{
 "cells": [
  {
   "cell_type": "code",
   "execution_count": 1,
   "metadata": {},
   "outputs": [],
   "source": [
    "import simulator_setup as sim"
   ]
  },
  {
   "cell_type": "code",
   "execution_count": 2,
   "metadata": {},
   "outputs": [],
   "source": [
    "depth = 2\n",
    "number_of_witnesses_per_depth = [2, 2, 2]\n",
    "threshold = 1.0\n",
    "\n",
    "prob_honest = 1\n",
    "prob_coerced = 0\n",
    "\n",
    "\n",
    "environment_size = [(0, 2), (0, 2)]\n",
    "number_of_cars = 10\n",
    "\n",
    "width = environment_size[0][1] - environment_size[0][0]\n",
    "height = environment_size[1][1] - environment_size[1][0]\n",
    "density = number_of_cars / (width * height)\n",
    "\n",
    "number_of_simulations = 1\n",
    "\n"
   ]
  },
  {
   "cell_type": "code",
   "execution_count": 3,
   "metadata": {},
   "outputs": [
    {
     "name": "stdout",
     "output_type": "stream",
     "text": [
      "[(0.6174919278635369, 1.5594242657251451), (1.630116669419337, 0.8244053748534008), (1.6545016564525248, 0.4059226219909955), (0.41840960696075435, 1.1397174090723199), (1.1762791753405923, 0.47316174966136804), (1.3993187869239294, 0.9275691829776207), (0.6347810293410212, 0.8720465268086648), (1.391358563292994, 0.04341597723852764), (0.9073398586152193, 0.28670256448530984), (0.13394628490337301, 1.3486706306955298)]\n",
      "{0: <t_pop.collections.components.car.Car object at 0x12fd5f850>, 1: <t_pop.collections.components.car.Car object at 0x12fd5f8b0>, 2: <t_pop.collections.components.car.Car object at 0x12fd5f8e0>, 3: <t_pop.collections.components.car.Car object at 0x12fd5f940>, 4: <t_pop.collections.components.car.Car object at 0x12fd5f4f0>, 5: <t_pop.collections.components.car.Car object at 0x12fd5f4c0>, 6: <t_pop.collections.components.car.Car object at 0x12fd5f490>, 7: <t_pop.collections.components.car.Car object at 0x12fd5f460>, 8: <t_pop.collections.components.car.Car object at 0x12fd5f430>, 9: <t_pop.collections.components.car.Car object at 0x12fd5f400>}\n",
      "<t_pop.collections.components.car.Car object at 0x12fd5f850>\n"
     ]
    }
   ],
   "source": [
    "cars, location_adapter, containers = sim.simulator_setup(environment_size, number_of_cars, prob_coerced, prob_honest)\n",
    "\n",
    "#sim_df = sim.simulator_caller(number_of_simulations, number_of_cars, prob_coerced, prob_honest, depth,\n",
    "                            #cars, containers, location_adapter, \n",
    "                            #number_of_witnesses_per_depth, density, threshold, environment_size)\n",
    "\n",
    "\n",
    "\n",
    "#print(location_adapter.location_cache.fake_cache)\n",
    "print(location_adapter.location_cache.true_cache)\n",
    "dictionary = containers.get_container_dictionary(cars[0])\n",
    "print(dictionary)\n",
    "print(containers.get_car_from_position_index(0, dictionary))\n",
    "\n"
   ]
  },
  {
   "cell_type": "code",
   "execution_count": null,
   "metadata": {},
   "outputs": [],
   "source": [
    "from t_pop.collections.components.containers import Containers\n",
    "from t_pop.collections.components.neighbours_testing import get_neighbours_cache_and_dict\n",
    "\n",
    "\n",
    "parent_neighbours_cache, true_car_dictionary, fake_car_dictionary = get_neighbours_cache_and_dict(cars[0], location_adapter.location_cache, containers)\n",
    "parent_container = Containers(true_car_dictionary, fake_car_dictionary)\n",
    "#parent_neighbours = neighbour_cars(parent_container, parent_neighbours_cache)"
   ]
  },
  {
   "cell_type": "code",
   "execution_count": null,
   "metadata": {},
   "outputs": [],
   "source": [
    "def neighbour_cars(car_container, car_neighbour_cache) -> list:\n",
    "    \"\"\"Function to construct the list of neighbours (car instance objects)\n",
    "    \n",
    "    params: car_container: Containers with the car's dictionaries of the true neighbours position and fake neighbours position\n",
    "    car_neighbour_cache: LocationCacheAdapter with the true position ID and true position of the neighbours, and same with fake position IDs and positions\n",
    "    \n",
    "    returns: neighbour_cars: list with Car class instances of the neighbours\"\"\"\n",
    "    neighbour_cars = []\n",
    "\n",
    "    for car_position_id, car_position in enumerate(car_neighbour_cache.fake_cache):\n",
    "        #we get the dictionary that contains the fake car positions and the fake car class instance\n",
    "        dictionary = car_container.fake_car_container_dictionary\n",
    "        #if dictionary is not empty\n",
    "        #retrieve the car class instance from the dictionary using the container class\n",
    "        car = car_container.get_car_from_position_index(car_position_id, dictionary)\n",
    "        if car is not None:\n",
    "            print(car.fake_x, car.fake_y, car_position)\n",
    "            #assert car_position == (car.fake_x, car.fake_y)\n",
    "            #add the car to the list of neighbours\n",
    "            neighbour_cars.append(car)\n",
    "\n",
    "    for car_position_id, car_position in enumerate(car_neighbour_cache.true_cache):\n",
    "        print(car_position_id, car_position)\n",
    "        #TODO: error is that car position ID is not that variable here, it is the number of cars in the list. \n",
    "        #\n",
    "        #we get the dictionary that contains the true car positions and the true car class instance\n",
    "        dictionary = car_container.true_car_container_dictionary\n",
    "        dictionary_indecies = list(dictionary.keys())\n",
    "\n",
    "        #print(dictionary_indecies)\n",
    "        #print(dictionary_indecies[car_position_id])\n",
    "        #retrieve the car class instance from the dictionary using the container class\n",
    "        car = car_container.get_car_from_position_index(dictionary_indecies[car_position_id], dictionary)\n",
    "        assert car is not None\n",
    "        \n",
    "        print(car.true_x, car.true_y, car_position)\n",
    "        assert car_position == (car.true_x, car.true_y)\n",
    "        #add the car to the list of neighbours\n",
    "        neighbour_cars.append(car)\n",
    "\n",
    "    return neighbour_cars\n",
    "\n",
    "car0_neighbours = neighbour_cars(parent_container, parent_neighbours_cache)"
   ]
  },
  {
   "cell_type": "code",
   "execution_count": 5,
   "metadata": {},
   "outputs": [
    {
     "name": "stdout",
     "output_type": "stream",
     "text": [
      "0\n",
      "[0]\n",
      "0.7636173847048271 0.922675607536803 (0.7636173847048271, 0.922675607536803) None None\n",
      "0\n",
      "[1]\n",
      "0.28080066246390456 1.8760508399349471 (0.28080066246390456, 1.8760508399349471) None None\n",
      "0\n",
      "[2]\n",
      "1.9972637462214005 1.648501371891642 (1.9972637462214005, 1.648501371891642) None None\n",
      "0\n",
      "[3]\n",
      "0.1776797750364314 0.24576387843041414 (0.1776797750364314, 0.24576387843041414) None None\n",
      "0\n",
      "[4]\n",
      "1.0047483715421466 0.3228645222111235 (1.0047483715421466, 0.3228645222111235) None None\n",
      "0\n",
      "[5]\n",
      "0.2438132652783791 1.6012503147525836 (0.2438132652783791, 1.6012503147525836) None None\n",
      "0\n",
      "[6]\n",
      "1.2050256618727517 1.5226304621902726 (1.2050256618727517, 1.5226304621902726) None None\n",
      "0\n",
      "[7]\n",
      "0.45060341182440466 0.8133772563746102 (0.45060341182440466, 0.8133772563746102) None None\n",
      "0\n",
      "[8]\n",
      "0.9079869093057507 0.46674215186956136 (0.9079869093057507, 0.46674215186956136) None None\n",
      "0\n",
      "[9]\n",
      "1.7420751090676005 1.7623522506502036 (1.7420751090676005, 1.7623522506502036) None None\n"
     ]
    }
   ],
   "source": [
    "sim_df = sim.simulator_caller(number_of_simulations, number_of_cars, prob_coerced, prob_honest, depth,\n",
    "                            cars, containers, location_adapter, \n",
    "                            number_of_witnesses_per_depth, density, threshold, environment_size)"
   ]
  },
  {
   "cell_type": "code",
   "execution_count": null,
   "metadata": {},
   "outputs": [],
   "source": [
    "sim_df"
   ]
  },
  {
   "cell_type": "code",
   "execution_count": 6,
   "metadata": {},
   "outputs": [
    {
     "name": "stdout",
     "output_type": "stream",
     "text": [
      "87\n"
     ]
    },
    {
     "ename": "IndexError",
     "evalue": "list index out of range",
     "output_type": "error",
     "traceback": [
      "\u001b[0;31m---------------------------------------------------------------------------\u001b[0m",
      "\u001b[0;31mIndexError\u001b[0m                                Traceback (most recent call last)",
      "Cell \u001b[0;32mIn[6], line 3\u001b[0m\n\u001b[1;32m      1\u001b[0m lista \u001b[39m=\u001b[39m [\u001b[39m133\u001b[39m, \u001b[39m307\u001b[39m, \u001b[39m428\u001b[39m, \u001b[39m564\u001b[39m, \u001b[39m573\u001b[39m, \u001b[39m672\u001b[39m, \u001b[39m1152\u001b[39m, \u001b[39m1191\u001b[39m, \u001b[39m1391\u001b[39m, \u001b[39m1393\u001b[39m, \u001b[39m1539\u001b[39m, \u001b[39m1832\u001b[39m, \u001b[39m2001\u001b[39m, \u001b[39m2096\u001b[39m, \u001b[39m2162\u001b[39m, \u001b[39m2436\u001b[39m, \u001b[39m2555\u001b[39m, \u001b[39m2672\u001b[39m, \u001b[39m3174\u001b[39m, \u001b[39m3280\u001b[39m, \u001b[39m3328\u001b[39m, \u001b[39m3521\u001b[39m, \u001b[39m3943\u001b[39m, \u001b[39m4437\u001b[39m, \u001b[39m4882\u001b[39m, \u001b[39m4924\u001b[39m, \u001b[39m5032\u001b[39m, \u001b[39m5081\u001b[39m, \u001b[39m5306\u001b[39m, \u001b[39m5326\u001b[39m, \u001b[39m5588\u001b[39m, \u001b[39m5603\u001b[39m, \u001b[39m5769\u001b[39m, \u001b[39m5956\u001b[39m, \u001b[39m6447\u001b[39m, \u001b[39m6479\u001b[39m, \u001b[39m7146\u001b[39m, \u001b[39m7148\u001b[39m, \u001b[39m7305\u001b[39m, \u001b[39m7465\u001b[39m, \u001b[39m7615\u001b[39m, \u001b[39m8803\u001b[39m, \u001b[39m9290\u001b[39m, \u001b[39m9330\u001b[39m, \u001b[39m9669\u001b[39m, \u001b[39m9952\u001b[39m, \u001b[39m0\u001b[39m, \u001b[39m38\u001b[39m, \u001b[39m131\u001b[39m, \u001b[39m141\u001b[39m, \u001b[39m149\u001b[39m, \u001b[39m396\u001b[39m, \u001b[39m508\u001b[39m, \u001b[39m596\u001b[39m, \u001b[39m754\u001b[39m, \u001b[39m1108\u001b[39m, \u001b[39m1540\u001b[39m, \u001b[39m1747\u001b[39m, \u001b[39m1757\u001b[39m, \u001b[39m1993\u001b[39m, \u001b[39m2038\u001b[39m, \u001b[39m2083\u001b[39m, \u001b[39m2120\u001b[39m, \u001b[39m2176\u001b[39m, \u001b[39m2342\u001b[39m, \u001b[39m2374\u001b[39m, \u001b[39m2451\u001b[39m, \u001b[39m2610\u001b[39m, \u001b[39m2762\u001b[39m, \u001b[39m2857\u001b[39m, \u001b[39m3214\u001b[39m, \u001b[39m3290\u001b[39m, \u001b[39m3468\u001b[39m, \u001b[39m3838\u001b[39m, \u001b[39m3873\u001b[39m, \u001b[39m3950\u001b[39m, \u001b[39m4070\u001b[39m, \u001b[39m4117\u001b[39m, \u001b[39m4167\u001b[39m, \u001b[39m4176\u001b[39m, \u001b[39m4439\u001b[39m, \u001b[39m4444\u001b[39m, \u001b[39m4476\u001b[39m, \u001b[39m4588\u001b[39m, \u001b[39m4700\u001b[39m, \u001b[39m4755\u001b[39m, \u001b[39m4880\u001b[39m]\n\u001b[1;32m      2\u001b[0m \u001b[39mprint\u001b[39m(\u001b[39mlen\u001b[39m(lista))\n\u001b[0;32m----> 3\u001b[0m lista[\u001b[39m87\u001b[39;49m]\n",
      "\u001b[0;31mIndexError\u001b[0m: list index out of range"
     ]
    }
   ],
   "source": [
    "lista = [133, 307, 428, 564, 573, 672, 1152, 1191, 1391, 1393, 1539, 1832, 2001, 2096, 2162, 2436, 2555, 2672, 3174, 3280, 3328, 3521, 3943, 4437, 4882, 4924, 5032, 5081, 5306, 5326, 5588, 5603, 5769, 5956, 6447, 6479, 7146, 7148, 7305, 7465, 7615, 8803, 9290, 9330, 9669, 9952, 0, 38, 131, 141, 149, 396, 508, 596, 754, 1108, 1540, 1747, 1757, 1993, 2038, 2083, 2120, 2176, 2342, 2374, 2451, 2610, 2762, 2857, 3214, 3290, 3468, 3838, 3873, 3950, 4070, 4117, 4167, 4176, 4439, 4444, 4476, 4588, 4700, 4755, 4880]\n",
    "print(len(lista))\n",
    "lista[87]"
   ]
  },
  {
   "cell_type": "code",
   "execution_count": null,
   "metadata": {},
   "outputs": [],
   "source": [
    "for car in cars:\n",
    "    if car.honest is False:\n",
    "        print(car.fake_x, car.fake_y)"
   ]
  },
  {
   "cell_type": "code",
   "execution_count": null,
   "metadata": {},
   "outputs": [],
   "source": [
    "for car in cars:\n",
    "    print(car.neighbourhood_set)"
   ]
  },
  {
   "cell_type": "code",
   "execution_count": null,
   "metadata": {},
   "outputs": [],
   "source": [
    "from t_pop.collections.components.neighbours_testing import get_neighbours_cache_and_dict\n",
    "\n",
    "neighbours_cache, true_car_neighbours_dict, fake_car_neighbours_dict = get_neighbours_cache_and_dict(cars[0], location_adapter.location_cache, containers)\n",
    "print(neighbours_cache.fake_cache)\n",
    "print(neighbours_cache.true_cache)\n",
    "\n"
   ]
  },
  {
   "cell_type": "code",
   "execution_count": null,
   "metadata": {},
   "outputs": [],
   "source": [
    "from t_pop.collections.components.containers import Containers\n",
    "\n",
    "car0_containers = Containers(true_car_neighbours_dict, fake_car_neighbours_dict)\n",
    "\n",
    "neighbour_cars = []\n",
    "\n",
    "for car_position_id, car_position in enumerate(neighbours_cache.fake_cache):\n",
    "\n",
    "    dictionary = car0_containers.fake_car_container_dictionary\n",
    "    car = containers.get_car_from_position_index(car_position_id, dictionary)\n",
    "    print(car.car_id)\n",
    "    assert car_position == (car.fake_x, car.fake_y)\n",
    "    neighbour_cars.append(car)\n",
    "\n",
    "for car_position_id, car_position in enumerate(neighbours_cache.true_cache):\n",
    "    dictionary = car0_containers.true_car_container_dictionary\n",
    "    car = containers.get_car_from_position_index(car_position_id, dictionary)\n",
    "    print(car.car_id)\n",
    "    assert car_position == (car.true_x, car.true_y)\n",
    "    neighbour_cars.append(car)\n",
    "\n",
    "\n",
    "print(neighbour_cars)"
   ]
  },
  {
   "cell_type": "code",
   "execution_count": null,
   "metadata": {},
   "outputs": [],
   "source": [
    "from t_pop.collections.adapters.location_cache import LocationCacheAdapter\n",
    "#TODO: remember to actually make the car container first!! by doing: \n",
    "#car0_containers = Containers(true_car_neighbours_dict, fake_car_neighbours_dict)\n",
    "\n",
    "def neighbour_cars(car_container:Containers, car_neighbour_cache:LocationCacheAdapter) -> list:\n",
    "    \"\"\"Function to construct the list of neighbours (car instance objects)\n",
    "    \n",
    "    params: car_container: Containers with the car's dictionaries of the true neighbours position and fake neighbours position\n",
    "    car_neighbour_cache: LocationCacheAdapter with the true position ID and true position of the neighbours, and same with fake position IDs and positions\n",
    "    \n",
    "    returns: neighbour_cars: list with car class instances of the neighbours\"\"\"\n",
    "    neighbour_cars = []\n",
    "\n",
    "    for car_position_id, car_position in enumerate(car_neighbour_cache.fake_cache):\n",
    "        #we get the dictionary that contains the fake car positions and the fake car class instance\n",
    "        dictionary = car_container.fake_car_container_dictionary\n",
    "        #retrieve the car class instance from the dictionary using the container class\n",
    "        car = car_container.get_car_from_position_index(car_position_id, dictionary)\n",
    "        \n",
    "        assert car_position == (car.fake_x, car.fake_y)\n",
    "        #add the car to the list of neighbours\n",
    "        neighbour_cars.append(car)\n",
    "\n",
    "    for car_position_id, car_position in enumerate(car_neighbour_cache.true_cache):\n",
    "        #we get the dictionary that contains the true car positions and the true car class instance\n",
    "        dictionary = car_container.true_car_container_dictionary\n",
    "        #retrieve the car class instance from the dictionary using the container class\n",
    "        car = car_container.get_car_from_position_index(car_position_id, dictionary)\n",
    "        \n",
    "        assert car_position == (car.true_x, car.true_y)\n",
    "        #add the car to the list of neighbours\n",
    "        neighbour_cars.append(car)\n",
    "\n",
    "    return neighbour_cars\n",
    "\n"
   ]
  },
  {
   "cell_type": "code",
   "execution_count": null,
   "metadata": {},
   "outputs": [],
   "source": [
    "car0_neighbours = neighbour_cars(car0_containers, neighbours_cache)\n",
    "print(car0_neighbours)"
   ]
  },
  {
   "cell_type": "code",
   "execution_count": null,
   "metadata": {},
   "outputs": [],
   "source": [
    "from t_pop.collections.components.car import Car\n",
    "\n",
    "def is_car_neighbour(parent_neighbours:list[Car], child:Car):\n",
    "    \"\"\"Function to check if a child is a neghbour of a parent.\n",
    "    \n",
    "    params: parent_neghbours: list of car class instances of the parent's neighbours\n",
    "    child: Car instance of the child being checked\n",
    "\n",
    "    returns: True if child is a neighbour of the parent and False otherwise.\n",
    "    \"\"\"\n",
    "    #initialise a set to contain the unique IDs of the parent neighbours\n",
    "    neighbour_set = set()\n",
    "\n",
    "    for neighbour in parent_neighbours:\n",
    "        #add the car ID of each neighbour into the set\n",
    "        neighbour_set.add(neighbour.car_id)\n",
    "        \n",
    "    if child.car_id in neighbour_set:\n",
    "        return True\n",
    "    else:\n",
    "        return False"
   ]
  },
  {
   "cell_type": "code",
   "execution_count": null,
   "metadata": {},
   "outputs": [],
   "source": [
    "output = is_car_neighbour(car0_neighbours, cars[5])\n",
    "print(output)"
   ]
  },
  {
   "cell_type": "code",
   "execution_count": null,
   "metadata": {},
   "outputs": [],
   "source": [
    "target_path = '/simulations/depth_' + str(depth) + '/' + 'neighbours_' + str(number_of_witnesses_per_depth[depth]) + '/'\n",
    "\n",
    "path = sim.make_directory(target_path)\n",
    "\n",
    "\n",
    "simulation_id = 0\n",
    "\n",
    "f = open(\"simulation_pathfiles_depth2_neighbours_2.txt\", \"w+\")\n",
    "\n",
    "\n",
    "for probability_honest in range(100, 110, 10):\n",
    "    probability_honest = probability_honest/100\n",
    "\n",
    "    for probability_coerced in range(10, 110, 10):\n",
    "        \n",
    "        probability_coerced = probability_coerced/100\n",
    "    \n",
    "        number_of_simulations = 5\n",
    "\n",
    "        simulation_id += 1\n",
    "\n",
    "        sim_df = sim.simulator_caller(number_of_simulations, number_of_cars, probability_coerced, probability_honest, depth, cars, containers, location_adapter, number_of_witnesses_per_depth, density, threshold, environment_size)\n",
    "        sim_pathfile = sim.save_simulation(sim_df, path, str(simulation_id) + 'p_honest' + str(probability_honest*100) + 'p_coerced' + str(probability_coerced*100)) \n",
    "\n",
    "        #saving the pathfiles of each simulation in the following text file.\n",
    "        print('saving sim: ', str(simulation_id) + 'p_honest' + str(probability_honest*100) + 'p_coerced' + str(probability_coerced*100))\n",
    "        f=open(\"simulation_pathfiles_depth2_neighbours_2.txt\", \"a+\")\n",
    "        f.write(sim_pathfile+'\\n')\n",
    "        f.close()"
   ]
  }
 ],
 "metadata": {
  "kernelspec": {
   "display_name": "Python 3",
   "language": "python",
   "name": "python3"
  },
  "language_info": {
   "codemirror_mode": {
    "name": "ipython",
    "version": 3
   },
   "file_extension": ".py",
   "mimetype": "text/x-python",
   "name": "python",
   "nbconvert_exporter": "python",
   "pygments_lexer": "ipython3",
   "version": "3.9.15"
  },
  "orig_nbformat": 4
 },
 "nbformat": 4,
 "nbformat_minor": 2
}
